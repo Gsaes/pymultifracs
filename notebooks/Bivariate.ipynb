{
 "cells": [
  {
   "cell_type": "code",
   "execution_count": 1,
   "id": "shaped-ending",
   "metadata": {},
   "outputs": [],
   "source": [
    "from pymultifracs.simul import mrw\n",
    "import numpy as np\n",
    "\n",
    "X = mrw(shape=(65536, 2), H=0.8, lam=0.3, L=65536)"
   ]
  },
  {
   "cell_type": "code",
   "execution_count": 2,
   "id": "legitimate-advertiser",
   "metadata": {},
   "outputs": [
    {
     "data": {
      "text/plain": [
       "array([[ 1.65448578e-07, -2.13790410e-04],\n",
       "       [-6.06888586e-05, -2.88236038e-04],\n",
       "       [-2.25850996e-04, -2.79136456e-04],\n",
       "       ...,\n",
       "       [ 6.61906068e-01,  4.80580782e-01],\n",
       "       [ 6.61838233e-01,  4.80580432e-01],\n",
       "       [ 6.61735562e-01,  4.80464194e-01]])"
      ]
     },
     "execution_count": 2,
     "metadata": {},
     "output_type": "execute_result"
    }
   ],
   "source": [
    "X"
   ]
  },
  {
   "cell_type": "code",
   "execution_count": 3,
   "id": "pressing-pledge",
   "metadata": {},
   "outputs": [],
   "source": [
    "wt_name = 'db2'\n",
    "p_exp = 2\n",
    "j2 = np.log2(65536) - 3\n",
    "\n",
    "gamint = 0.0\n",
    "wtype = True"
   ]
  },
  {
   "cell_type": "code",
   "execution_count": 4,
   "id": "matched-thinking",
   "metadata": {},
   "outputs": [],
   "source": [
    "from pymultifracs.wavelet import wavelet_analysis"
   ]
  },
  {
   "cell_type": "code",
   "execution_count": 5,
   "id": "governmental-hartford",
   "metadata": {},
   "outputs": [],
   "source": [
    "from importlib import reload"
   ]
  },
  {
   "cell_type": "code",
   "execution_count": 6,
   "id": "quarterly-nevada",
   "metadata": {},
   "outputs": [],
   "source": [
    "import pymultifracs.wavelet\n",
    "reload(pymultifracs.wavelet)\n",
    "from pymultifracs.wavelet import wavelet_analysis"
   ]
  },
  {
   "cell_type": "code",
   "execution_count": 7,
   "id": "medical-basics",
   "metadata": {},
   "outputs": [
    {
     "data": {
      "text/plain": [
       "(65536, 2)"
      ]
     },
     "execution_count": 7,
     "metadata": {},
     "output_type": "execute_result"
    }
   ],
   "source": [
    "X.shape"
   ]
  },
  {
   "cell_type": "code",
   "execution_count": 8,
   "id": "freelance-stand",
   "metadata": {},
   "outputs": [],
   "source": [
    "WT1 = wavelet_analysis(X[:, 0], p_exp=p_exp, j2=j2, gamint=gamint, weighted=wtype)"
   ]
  },
  {
   "cell_type": "code",
   "execution_count": 9,
   "id": "headed-psychiatry",
   "metadata": {},
   "outputs": [],
   "source": [
    "WT2 = wavelet_analysis(X[:, 1], p_exp=p_exp, j2=j2, gamint=gamint, weighted=wtype)"
   ]
  },
  {
   "cell_type": "code",
   "execution_count": 10,
   "id": "aware-parallel",
   "metadata": {},
   "outputs": [],
   "source": [
    "from pymultifracs.estimation import estimate_hmin"
   ]
  },
  {
   "cell_type": "code",
   "execution_count": 11,
   "id": "classified-semester",
   "metadata": {},
   "outputs": [
    {
     "data": {
      "text/plain": [
       "0.4677584240290453"
      ]
     },
     "execution_count": 11,
     "metadata": {},
     "output_type": "execute_result"
    }
   ],
   "source": [
    "estimate_hmin(WT1.wt_coefs, 3, WT1.j2_eff, wtype)[0].min()"
   ]
  },
  {
   "cell_type": "code",
   "execution_count": 12,
   "id": "colored-sequence",
   "metadata": {},
   "outputs": [
    {
     "data": {
      "text/plain": [
       "0.563436643971557"
      ]
     },
     "execution_count": 12,
     "metadata": {},
     "output_type": "execute_result"
    }
   ],
   "source": [
    "estimate_hmin(WT2.wt_coefs, 3, WT2.j2_eff, wtype)[0].min()"
   ]
  },
  {
   "cell_type": "code",
   "execution_count": 44,
   "id": "postal-triple",
   "metadata": {},
   "outputs": [],
   "source": [
    "import pymultifracs.bivariate.bivariate_cumulants\n",
    "reload(pymultifracs.bivariate.bivariate_cumulants)\n",
    "from pymultifracs.bivariate.bivariate_cumulants import BiCumulants"
   ]
  },
  {
   "cell_type": "code",
   "execution_count": 45,
   "id": "advised-sitting",
   "metadata": {},
   "outputs": [],
   "source": [
    "BiCum = BiCumulants(WT1.wt_leaders, WT2.wt_leaders, n_cumul=2, j1=3, j2=WT1.j2_eff, wtype=True)"
   ]
  },
  {
   "cell_type": "code",
   "execution_count": 46,
   "id": "complicated-penetration",
   "metadata": {},
   "outputs": [
    {
     "data": {
      "text/plain": [
       "array([[ 0.00000000e+00,  8.50792414e-01, -1.30198528e+01],\n",
       "       [ 8.43366184e-01,  1.11594905e-02, -1.55566702e-01],\n",
       "       [-1.29258705e+01, -1.79972855e-01,  2.70215343e+00]])"
      ]
     },
     "execution_count": 46,
     "metadata": {},
     "output_type": "execute_result"
    }
   ],
   "source": [
    "BiCum.log_cumulants"
   ]
  },
  {
   "cell_type": "code",
   "execution_count": 47,
   "id": "governing-shannon",
   "metadata": {},
   "outputs": [
    {
     "data": {
      "text/plain": [
       "array([0., 0., 0., 0., 0., 0., 0., 0., 0., 0., 0., 0., 0.])"
      ]
     },
     "execution_count": 47,
     "metadata": {},
     "output_type": "execute_result"
    }
   ],
   "source": [
    "BiCum.values[0, 0]"
   ]
  },
  {
   "cell_type": "code",
   "execution_count": 48,
   "id": "amber-compromise",
   "metadata": {},
   "outputs": [
    {
     "data": {
      "text/plain": [
       "-0.0008602237466420582"
      ]
     },
     "execution_count": 48,
     "metadata": {},
     "output_type": "execute_result"
    }
   ],
   "source": [
    "BiCum.rho_mf"
   ]
  },
  {
   "cell_type": "code",
   "execution_count": 26,
   "id": "metropolitan-tutorial",
   "metadata": {},
   "outputs": [],
   "source": [
    "import pymultifracs.bivariate.bivariate_structurefunction\n",
    "reload(pymultifracs.bivariate.bivariate_structurefunction)\n",
    "from pymultifracs.bivariate.bivariate_structurefunction import BiStructureFunction"
   ]
  },
  {
   "cell_type": "code",
   "execution_count": 27,
   "id": "tender-booth",
   "metadata": {},
   "outputs": [
    {
     "data": {
      "text/plain": [
       "\u001b[0;31mInit signature:\u001b[0m\n",
       "\u001b[0mBiStructureFunction\u001b[0m\u001b[0;34m(\u001b[0m\u001b[0;34m\u001b[0m\n",
       "\u001b[0;34m\u001b[0m    \u001b[0mmrq1\u001b[0m\u001b[0;34m:\u001b[0m \u001b[0mdataclasses\u001b[0m\u001b[0;34m.\u001b[0m\u001b[0mInitVar\u001b[0m\u001b[0;34m[\u001b[0m\u001b[0mMultiResolutionQuantity\u001b[0m\u001b[0;34m]\u001b[0m\u001b[0;34m,\u001b[0m\u001b[0;34m\u001b[0m\n",
       "\u001b[0;34m\u001b[0m    \u001b[0mmrq2\u001b[0m\u001b[0;34m:\u001b[0m \u001b[0mdataclasses\u001b[0m\u001b[0;34m.\u001b[0m\u001b[0mInitVar\u001b[0m\u001b[0;34m[\u001b[0m\u001b[0mMultiResolutionQuantity\u001b[0m\u001b[0;34m]\u001b[0m\u001b[0;34m,\u001b[0m\u001b[0;34m\u001b[0m\n",
       "\u001b[0;34m\u001b[0m    \u001b[0mj1\u001b[0m\u001b[0;34m:\u001b[0m \u001b[0mint\u001b[0m\u001b[0;34m,\u001b[0m\u001b[0;34m\u001b[0m\n",
       "\u001b[0;34m\u001b[0m    \u001b[0mj2\u001b[0m\u001b[0;34m:\u001b[0m \u001b[0mint\u001b[0m\u001b[0;34m,\u001b[0m\u001b[0;34m\u001b[0m\n",
       "\u001b[0;34m\u001b[0m    \u001b[0mq1\u001b[0m\u001b[0;34m:\u001b[0m \u001b[0mnumpy\u001b[0m\u001b[0;34m.\u001b[0m\u001b[0mndarray\u001b[0m\u001b[0;34m,\u001b[0m\u001b[0;34m\u001b[0m\n",
       "\u001b[0;34m\u001b[0m    \u001b[0mq2\u001b[0m\u001b[0;34m:\u001b[0m \u001b[0mnumpy\u001b[0m\u001b[0;34m.\u001b[0m\u001b[0mndarray\u001b[0m\u001b[0;34m,\u001b[0m\u001b[0;34m\u001b[0m\n",
       "\u001b[0;34m\u001b[0m    \u001b[0mwtype\u001b[0m\u001b[0;34m:\u001b[0m \u001b[0mbool\u001b[0m\u001b[0;34m,\u001b[0m\u001b[0;34m\u001b[0m\n",
       "\u001b[0;34m\u001b[0m\u001b[0;34m)\u001b[0m \u001b[0;34m->\u001b[0m \u001b[0;32mNone\u001b[0m\u001b[0;34m\u001b[0m\u001b[0;34m\u001b[0m\u001b[0m\n",
       "\u001b[0;31mDocstring:\u001b[0m      BiStructureFunction(mrq1: dataclasses.InitVar[MultiResolutionQuantity], mrq2: dataclasses.InitVar[MultiResolutionQuantity], j1: int, j2: int, q1: numpy.ndarray, q2: numpy.ndarray, wtype: bool)\n",
       "\u001b[0;31mFile:\u001b[0m           ~/Multifracs/pymultifracs/pymultifracs/bivariate/bivariate_structurefunction.py\n",
       "\u001b[0;31mType:\u001b[0m           type\n",
       "\u001b[0;31mSubclasses:\u001b[0m     \n"
      ]
     },
     "metadata": {},
     "output_type": "display_data"
    }
   ],
   "source": [
    "?BiStructureFunction"
   ]
  },
  {
   "cell_type": "code",
   "execution_count": 28,
   "id": "revolutionary-margin",
   "metadata": {},
   "outputs": [],
   "source": [
    "BiSF = BiStructureFunction(WT1.wt_coefs, WT2.wt_coefs, j1=3, j2=WT1.j2_eff, q1=np.array([2]), q2=np.array([2]), wtype=True)"
   ]
  },
  {
   "cell_type": "code",
   "execution_count": 30,
   "id": "consolidated-outline",
   "metadata": {},
   "outputs": [
    {
     "data": {
      "text/plain": [
       "1.667301848096868"
      ]
     },
     "execution_count": 30,
     "metadata": {},
     "output_type": "execute_result"
    }
   ],
   "source": [
    "BiSF.H"
   ]
  },
  {
   "cell_type": "code",
   "execution_count": 25,
   "id": "given-bronze",
   "metadata": {},
   "outputs": [
    {
     "data": {
      "text/plain": [
       "array([[3.3346037]])"
      ]
     },
     "execution_count": 25,
     "metadata": {},
     "output_type": "execute_result"
    }
   ],
   "source": [
    "BiSF.zeta"
   ]
  }
 ],
 "metadata": {
  "kernelspec": {
   "display_name": "Python [conda env:mfanalysis3]",
   "language": "python",
   "name": "conda-env-mfanalysis3-py"
  },
  "language_info": {
   "codemirror_mode": {
    "name": "ipython",
    "version": 3
   },
   "file_extension": ".py",
   "mimetype": "text/x-python",
   "name": "python",
   "nbconvert_exporter": "python",
   "pygments_lexer": "ipython3",
   "version": "3.8.5"
  },
  "widgets": {
   "application/vnd.jupyter.widget-state+json": {
    "state": {},
    "version_major": 2,
    "version_minor": 0
   }
  }
 },
 "nbformat": 4,
 "nbformat_minor": 5
}
