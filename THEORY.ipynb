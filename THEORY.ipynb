{
 "cells": [
  {
   "cell_type": "markdown",
   "metadata": {},
   "source": [
    "A Brief Introduction to Multifractal Analysis*\n",
    "============\n",
    "\n",
    "Scale invariance\n",
    "--------------------------\n",
    "\n",
    "Multifractal analysis is a tool to analyse *scale invariant* data, that is, signals for which no single scale play a characteristic role. It has been applied to the study of several kinds of data, such as hydrodynamic turbulence, human heart beat rhythms, texture image analysis, magnetoencephalography signals, among others. \n",
    "\n",
    "Scale invariance is related to *power-laws*. Let's consider, for instance, a signal whose power spectrum is $\\Gamma(\\nu) \\approx C |\\nu|^{-\\beta} $ in a given interval of frequencies, where $\\nu$ is the frequency and $C$ and $\\beta$ are constants. For a scaling factor $a$, we have:\n",
    "\n",
    "$$\n",
    "\\Gamma(a\\nu) \\approx a^{-\\beta}C |\\nu|^{-\\beta} \\approx a^{-\\beta}\\Gamma(\\nu)\n",
    "$$\n",
    "\n",
    "This means that a scaled version of the power spectrum has the same shape as the original spectrum, which implies the absence of a characteristic frequency in the signal. In this case, the scale invariance is characterized by the exponent $\\beta$. Thus, in several applications, scale invariance has been defined and analyzed through the power law behavior of power spectrum estimates.\n",
    "\n",
    "However, this approach has limitations. For non-stationary processes, defining and interpreting a power spectral density is not trivial; and the behaviour of more complex signals or systems cannot be well characterized by a single scale invariance coefficient $\\beta$. \n",
    "\n",
    "Now let's see how multifractal analysis extends this approach to non-stationary and more complex signals. Let $X(t)$ be a time series and $\\tilde{X}(\\nu, t_k)$ be the Fourier transform of $X(t)$ in a time window centered at $t_k$. Assuming that $X$ is a wide-sense stationary process, its  power spectrum can be estimated as $\\frac{1}{n}\\sum_{k=1}^n |\\tilde{X}(\\nu, t_k)|^2$, giving us the following characterization of scale invariance: \n",
    "\n",
    "$$\n",
    "\\Gamma(\\nu)  \\approx \\frac{1}{n}\\sum_{k=1}^n |\\tilde{X}(\\nu, t_k)|^2 \\approx C |\\nu|^{-\\beta}, \\quad \\beta > 0\n",
    "$$\n",
    "which must hold for a range of frequencies $\\nu_1 \\leq \\nu \\leq \\nu_2$.\n",
    "\n",
    "In multifractal analysis, this notion of scale invariance is generalized, to relax the limitations mentioned above. First, the Fourier transform at frequency $\\nu$ and around time $t_k$, $\\tilde{X}(\\nu, t_k)$, is replaced by a *multiresolution quantity* $T_X(j, t_k)$ describing the content of $X$ at (time-)scale $j$ and time $t_k$; this allows us to work with non stationary processes. This can be, for instance, the wavelet coefficient of $X(t)$ at a given scale and time (or wavelet leaders, see [1], section 2.5). Also, there is a correspondence between scale and frequency: the larger the time scale, the smaller the frequency. \n",
    "\n",
    "Second, scale invariance defined through the power spectrum considers only second order statistics (averaging the square of the Fourier transform) and is described by a single exponent $\\beta$. This is only suitable to Gaussian processes, which are characterized by their first and second order statistics. Multifractal analysis also considers higher order statistics, allowing us to go beyond Gaussian processes. \n",
    "\n",
    "Concretely, in multifractal analysis we study the following quantities, called *structure functions* at scaje $j$ and exponent $q$:\n",
    "\n",
    "$$\n",
    "S(j, q) = \\frac{1}{n_j} \\sum_{k=1}^{n_j} |T_X(j, t_k)|^q, \\; j_1 \\leq j \\leq j_2\n",
    "$$\n",
    "where $j_1$ and $j_2$ define the time scales (or, equivalently, the frequency band) that we are analyzing, and $n_j$ is the number of coefficients available at scale $j$. Scale invariance is now defined as:\n",
    "\n",
    "$$\n",
    "S(j, q) \\approx c_q 2^{j \\zeta(q)}\n",
    "$$\n",
    "\n",
    "\n",
    "Now, instead of defining scale invariance using a single exponent $\\beta$, we use a *scaling function* $\\zeta(q)$ which takes into account higher order statistics ($>2$) of multiresolution quantities.\n",
    "\n",
    "\n",
    "Multifractal Spectrum\n",
    "--------------------------------\n",
    "\n",
    "The scale invariance proporties of a signal are also related to the variations of its local regularity. Let $h_X(t_0)$ be the Holder exponent of the signal $X(t)$ at point $t_0$. The multifractal spectrum of $X(t)$ is defined as:\n",
    "\n",
    "\n",
    "$$\n",
    "\\mathcal{D}(h) = \\dim_H(\\{  t \\in \\mathbb{R}: h(t) = h \\}\n",
    "$$\n",
    "where $\\dim_H$ denotes the Hausdorff dimension of a set. \n",
    "\n",
    "The multifractal spectrum can be estimated as the Legendre transform of $\\zeta(q)$:\n",
    "\n",
    "$$\n",
    "\\mathcal{D}(h) = \\inf_{q \\in \\mathbb{R}} (1 + qh - \\zeta(q))\n",
    "$$\n",
    "\n",
    "\n",
    "\n",
    "\n",
    "\n",
    "\n",
    "\n",
    "*_Based on Herwig Wendt's PhD thesis [1]_\n",
    "\n",
    "[1] H. Wendt, Contributions of Wavelet Leaders and Bootstrap to Multifractal Analysis, ENS Lyon, 2008. Available at https://www.irit.fr/~Herwig.Wendt/data/ThesisWendt.pdf\n"
   ]
  }
 ],
 "metadata": {
  "kernelspec": {
   "display_name": "Python 3",
   "language": "python",
   "name": "python3"
  },
  "language_info": {
   "codemirror_mode": {
    "name": "ipython",
    "version": 3
   },
   "file_extension": ".py",
   "mimetype": "text/x-python",
   "name": "python",
   "nbconvert_exporter": "python",
   "pygments_lexer": "ipython3",
   "version": "3.7.6"
  },
  "widgets": {
   "application/vnd.jupyter.widget-state+json": {
    "state": {},
    "version_major": 2,
    "version_minor": 0
   }
  }
 },
 "nbformat": 4,
 "nbformat_minor": 4
}
