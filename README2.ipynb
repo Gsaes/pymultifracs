{
 "cells": [
  {
   "cell_type": "markdown",
   "metadata": {},
   "source": [
    "Introduction\n",
    "============\n",
    "\n",
    "This package implements wavelet based multifractal analysis of 1D signals.\n",
    "\n",
    "Implemented features:\n",
    "\n",
    "* Computation of (1D) multiresolution quantities: wavelet coefficients, wavelet-leaders and p-leaders\n",
    "* Computation of structure functions, cumulants and log-cumulants.\n",
    "* Estimation of the multifractal spectrum.\n",
    "\n",
    "\n",
    "The code in this package is based on the Wavelet p-Leader and Bootstrap based MultiFractal analysis (PLBMF) Matlab toolbox written by Herwig Wendt (https://www.irit.fr/~Herwig.Wendt/software.html) and on the documents provided in his website (his PhD thesis in particular, which can be found at https://www.irit.fr/~Herwig.Wendt/data/ThesisWendt.pdf).\n"
   ]
  },
  {
   "cell_type": "markdown",
   "metadata": {},
   "source": [
    "Installation\n",
    "============\n",
    "    git clone https://github.com/neurospin/mfanalysis.git\n",
    "    cd mfanalysis\n",
    "    python setup.py install"
   ]
  },
  {
   "cell_type": "markdown",
   "metadata": {},
   "source": [
    "How to use the package\n",
    "============\n",
    "\n",
    "See scripts in /examples, mainly /examples/demo_pleaders.py \n",
    "\n",
    "The data used for the examples were taken from the example data of the PLBMF Matlab toolbox (https://www.irit.fr/~Herwig.Wendt/software.html, MF_BS_tool_webrelease/demo/WLBMF_example_data).\n"
   ]
  },
  {
   "cell_type": "markdown",
   "metadata": {},
   "source": [
    "A Brief Introduction to Multifractal Analysis*\n",
    "============\n",
    "\n",
    "Multifractal analysis is a tool to analyse *scale invariant* data, that is, signals for which no single scale play a characteristic role. It has been applied to the study of several kinds of data, such as hydrodynamic turbulence, human heart beat rhythms, texture image analysis, magnetoencephalography signals, among others. \n",
    "\n",
    "Scale invariance is related to *power-laws*. Let's consider, for instance, a signal whose power spectral density (PSD) is $\\Gamma(\\nu) \\approx C |\\nu|^{-\\gamma} $ in low frequencies, where $\\nu$ is the frequency and $C$ and $\\gamma$ are constants. For a scaling factor $a$, we have:\n",
    "\n",
    "$$\n",
    "\\Gamma(a\\nu) \\approx a^{-\\gamma}C |\\nu|^{-\\gamma} \n",
    "$$\n",
    "\n",
    "This means that a scaled version of the power spectrum has the same shape as the original spectrum, which implies the absence of a characteristic frequency in the signal. In this case, the scale invariance is characterized by the exponent $\\gamma$. Thus, in several applications, scale invariance has been defined and analyzed through the power law behavior of power spectrum estimates.\n",
    "\n",
    "However, this approach has limitations. For non-stationary processes, defining and interpreting a power spectral density is not trivial; and the behaviour more complex signals or systems cannot be well characterized by a single scale invariance coefficient $\\gamma$. \n",
    "\n",
    "Now let's see how multifractal analysis extends this approach to non-stationary and more complex signals.  \n",
    "\n",
    "\n",
    "\n",
    "\n",
    "\n",
    "\n",
    "\n",
    "\n",
    "\n",
    "\n",
    "*_Based on Herwig Wendt's PhD thesis (https://www.irit.fr/~Herwig.Wendt/data/ThesisWendt.pdf)_\n"
   ]
  },
  {
   "cell_type": "markdown",
   "metadata": {},
   "source": [
    "Testing\n",
    "============\n",
    "\n",
    "The scripts in /test allow us to compare the outputs of this package and the PLBMF Matlab toolbox (https://www.irit.fr/~Herwig.Wendt/software.html). \n",
    "\n",
    "How to perform a test:\n",
    "\n",
    "1. Run define_testing_parameters.py to define a range of parameters to be tested and generate params.json.\n",
    "\n",
    "2. Put .mat files in folder /test_data containing signals to be tested (each file must have a 'data' variable representing a 1d signal).\n",
    "\n",
    "3. Run /test/testing_python_package/test.py to generate python outputs and run  /test/testing_matlab_toolbox/test.m to generate matlab outputs.\n",
    "\n",
    "4. Done! Output csv files are stored in /test_outputs. The script compare_outputs.py can be used to compare these output files."
   ]
  },
  {
   "cell_type": "code",
   "execution_count": null,
   "metadata": {},
   "outputs": [],
   "source": []
  }
 ],
 "metadata": {
  "kernelspec": {
   "display_name": "Python 3",
   "language": "python",
   "name": "python3"
  },
  "language_info": {
   "codemirror_mode": {
    "name": "ipython",
    "version": 3
   },
   "file_extension": ".py",
   "mimetype": "text/x-python",
   "name": "python",
   "nbconvert_exporter": "python",
   "pygments_lexer": "ipython3",
   "version": "3.6.5"
  }
 },
 "nbformat": 4,
 "nbformat_minor": 2
}
